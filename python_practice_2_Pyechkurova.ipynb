{
  "nbformat": 4,
  "nbformat_minor": 0,
  "metadata": {
    "colab": {
      "provenance": []
    },
    "kernelspec": {
      "name": "python3",
      "display_name": "Python 3"
    },
    "language_info": {
      "name": "python"
    }
  },
  "cells": [
    {
      "cell_type": "markdown",
      "source": [
        "# I. Змінні та памʼять."
      ],
      "metadata": {
        "id": "p9wwt0LZzNvn"
      }
    },
    {
      "cell_type": "markdown",
      "source": [
        "1. Створити змінні, що посилаються на два цілих числа, що однакові за значенням, де значення належить проміжку від -5 до 256. Перевірте, чи будуть ці змінні рівні тільки за значенням або ж ще будуть посилатися на один і той самий обʼєкт в памʼяті? Наведіть код та дайте текстову відповідь нижче."
      ],
      "metadata": {
        "id": "HTJrrm95xSV9"
      }
    },
    {
      "cell_type": "code",
      "execution_count": 1,
      "metadata": {
        "id": "TATni2vzayjG",
        "colab": {
          "base_uri": "https://localhost:8080/"
        },
        "outputId": "b9b691d6-6815-4d7c-bfe0-ac82163c4d7a"
      },
      "outputs": [
        {
          "output_type": "stream",
          "name": "stdout",
          "text": [
            "True\n",
            "True\n"
          ]
        }
      ],
      "source": [
        "a = 100\n",
        "b = 100\n",
        "print(a == b)\n",
        "print(id(a) == id(b))"
      ]
    },
    {
      "cell_type": "markdown",
      "source": [
        "В цілях оптимізації інтерпретатор створює об'єкти типу Integer в межах [-5, 256] під час ініціалізації інтерпретатора, а потім повторно використовує їх під час виконання програми. Створюються посилання на ці самі об'єкти, а не відбуваєтсья створення нових."
      ],
      "metadata": {
        "id": "zfRG_o3WbRdg"
      }
    },
    {
      "cell_type": "markdown",
      "source": [
        "2. За допомогою якої функції можна перевірити належність змінної до вказаного типу даних (напр. чи змінна True посилається на значення булевого та цілочисленого типу)?"
      ],
      "metadata": {
        "id": "ISORzt6M3vAt"
      }
    },
    {
      "cell_type": "code",
      "source": [
        "# the answer is function type()\n",
        "bool_var = True\n",
        "type(bool_var)"
      ],
      "metadata": {
        "id": "9vL9CFaMbfyo",
        "colab": {
          "base_uri": "https://localhost:8080/"
        },
        "outputId": "4732e56e-b2f0-4fa8-8bd1-ba69fd090fd8"
      },
      "execution_count": 5,
      "outputs": [
        {
          "output_type": "execute_result",
          "data": {
            "text/plain": [
              "bool"
            ]
          },
          "metadata": {},
          "execution_count": 5
        }
      ]
    },
    {
      "cell_type": "markdown",
      "source": [
        "# II. Цілі числа та числа з рухомою комою"
      ],
      "metadata": {
        "id": "tRxugKAxwYLw"
      }
    },
    {
      "cell_type": "markdown",
      "source": [
        "3. Створити дві змінні, що посилаються на будь-які ціле число та число з рухомою комою та продемонструвати такі арифметичні операції: додавання, віднімання, ділення, множення, ділення без залишку, ділення по модулю, приведення до ступеню. Всі результати операцій вивести на екран."
      ],
      "metadata": {
        "id": "NLHkgd5Gybc8"
      }
    },
    {
      "cell_type": "code",
      "source": [
        "int_var = 5\n",
        "float_var = 0.4\n",
        "\n",
        "# addition\n",
        "sum = int_var + float_var\n",
        "print(int_var, \"+\", float_var, \"=\", sum)\n",
        "\n",
        "# subtraction\n",
        "difference = int_var - float_var\n",
        "print(int_var, \"-\", float_var, \"=\", difference)\n",
        "\n",
        "# division\n",
        "fraction = int_var / float_var\n",
        "print(int_var, \"/\", float_var, \"=\", fraction)\n",
        "fraction = float_var / int_var\n",
        "print(float_var, \"/\", int_var, \"=\", fraction)\n",
        "\n",
        "# multiplication\n",
        "product = int_var * float_var\n",
        "print(int_var, \"*\", float_var, \"=\", product)\n",
        "\n",
        "# division without remainder\n",
        "fraction_without_remainder = int_var // float_var\n",
        "print(int_var, \"//\", float_var, \"=\", fraction_without_remainder)\n",
        "fraction_without_remainder = float_var // int_var\n",
        "print(float_var, \"//\", int_var, \"=\", fraction_without_remainder)\n",
        "\n",
        "# division by modulo\n",
        "remainder = int_var % float_var\n",
        "print(int_var, \"%\", float_var, \"=\", remainder)\n",
        "remainder = float_var % int_var\n",
        "print(float_var, \"%\", int_var, \"=\", remainder)\n",
        "\n",
        "# raising to power\n",
        "power = int_var**float_var\n",
        "print(int_var, \"**\", float_var, \"=\", power)\n",
        "power = float_var**int_var\n",
        "print(float_var, \"**\", int_var, \"=\", power)"
      ],
      "metadata": {
        "id": "nb8u_3pjb2cA",
        "colab": {
          "base_uri": "https://localhost:8080/"
        },
        "outputId": "0f44b10d-55f1-40b7-a9f9-388fe764170c"
      },
      "execution_count": 11,
      "outputs": [
        {
          "output_type": "stream",
          "name": "stdout",
          "text": [
            "5 + 0.4 = 5.4\n",
            "5 - 0.4 = 4.6\n",
            "5 / 0.4 = 12.5\n",
            "0.4 / 5 = 0.08\n",
            "5 * 0.4 = 2.0\n",
            "5 // 0.4 = 12.0\n",
            "0.4 // 5 = 0.0\n",
            "5 % 0.4 = 0.19999999999999973\n",
            "0.4 % 5 = 0.4\n",
            "5 ** 0.4 = 1.9036539387158786\n",
            "0.4 ** 5 = 0.010240000000000003\n"
          ]
        }
      ]
    },
    {
      "cell_type": "markdown",
      "source": [
        "4. Використовуючи змінні з вправи 3, продемонструйте механізм явного перетворення типів, де числа з рухомою комою перетворюються на цілі числа. Також визначте змінну, що посилається на значення булевого типу і спробуйте явно привести її до цілого числа."
      ],
      "metadata": {
        "id": "1kBClKgPzZnC"
      }
    },
    {
      "cell_type": "code",
      "source": [
        "print(type(sum))\n",
        "casted_int = int(sum)\n",
        "print(type(casted_int))\n",
        "print(sum, ' ', casted_int)\n",
        "\n",
        "bool_var = True\n",
        "print(type(bool_var))\n",
        "casted_int = int(bool_var)\n",
        "print(type(casted_int))\n",
        "print(bool_var, ' ', casted_int)\n"
      ],
      "metadata": {
        "id": "TbqJbkeUcKsD",
        "colab": {
          "base_uri": "https://localhost:8080/"
        },
        "outputId": "41aa126d-812b-4b1f-b36e-8ca51cf079cb"
      },
      "execution_count": 14,
      "outputs": [
        {
          "output_type": "stream",
          "name": "stdout",
          "text": [
            "<class 'float'>\n",
            "<class 'int'>\n",
            "5.4   5\n",
            "<class 'bool'>\n",
            "<class 'int'>\n",
            "True   1\n"
          ]
        }
      ]
    },
    {
      "cell_type": "markdown",
      "source": [
        "# IІІ. Рядки (String)."
      ],
      "metadata": {
        "id": "EVJ7AflwxrZi"
      }
    },
    {
      "cell_type": "markdown",
      "source": [
        "5. Створити пустий рядок двома різними способами."
      ],
      "metadata": {
        "id": "_s5ECzz9zE61"
      }
    },
    {
      "cell_type": "code",
      "source": [
        "empty_string1 = ''\n",
        "empty_string2 = str()"
      ],
      "metadata": {
        "id": "fkZJHu9Scvc-"
      },
      "execution_count": null,
      "outputs": []
    },
    {
      "cell_type": "markdown",
      "source": [
        "6. Створити рядок з апострофом. Зробити його сирим. Вивести обидва рядка на екран."
      ],
      "metadata": {
        "id": "4Bdn9J3MzLf_"
      }
    },
    {
      "cell_type": "code",
      "source": [
        "apostrophe = '\\''\n",
        "raw_apostrophe = r'\\''\n",
        "print(apostrophe)\n",
        "print(raw_apostrophe)"
      ],
      "metadata": {
        "id": "ivji_hsmc0GH",
        "colab": {
          "base_uri": "https://localhost:8080/"
        },
        "outputId": "70cacdcb-f4fb-4828-c558-a848918a8de6"
      },
      "execution_count": 16,
      "outputs": [
        {
          "output_type": "stream",
          "name": "stdout",
          "text": [
            "'\n",
            "\\'\n"
          ]
        }
      ]
    },
    {
      "cell_type": "markdown",
      "source": [
        "7. Створити змінну, що буде посилатися на Ваше прізвище латинкою. Створити форматований рядок, який буде мати вигляд \"My surname is ______\", де на місці нижніх підкреслень буде Ваше прізвище зі змінної."
      ],
      "metadata": {
        "id": "bg_d8wM4z8dS"
      }
    },
    {
      "cell_type": "code",
      "source": [
        "surname = \"Pyechkurova\"\n",
        "formated_string = f\"My surname is {surname}\"\n",
        "print(formated_string)"
      ],
      "metadata": {
        "id": "kuxFgpWndACq",
        "colab": {
          "base_uri": "https://localhost:8080/"
        },
        "outputId": "64e314c3-65f2-4588-f29f-591df17d2bf3"
      },
      "execution_count": 20,
      "outputs": [
        {
          "output_type": "stream",
          "name": "stdout",
          "text": [
            "My surname is Pyechkurova\n"
          ]
        }
      ]
    },
    {
      "cell_type": "markdown",
      "source": [
        "8. Маючи рядок \"My dog is crazy.\" перетворити його на список [\"my\", \"dog\", \"is\", \"crazy\"]"
      ],
      "metadata": {
        "id": "1Nc6RqvQ0hxU"
      }
    },
    {
      "cell_type": "code",
      "source": [
        "s = \"My dog is crazy.\"\n",
        "words = s.lower().replace('.', '').split()\n",
        "print(words)\n",
        "type(words)"
      ],
      "metadata": {
        "id": "w1Ya4RqedUhw",
        "colab": {
          "base_uri": "https://localhost:8080/"
        },
        "outputId": "40625711-3fdf-4d4a-915d-2f8e9352ee24"
      },
      "execution_count": 33,
      "outputs": [
        {
          "output_type": "stream",
          "name": "stdout",
          "text": [
            "['my', 'dog', 'is', 'crazy']\n"
          ]
        },
        {
          "output_type": "execute_result",
          "data": {
            "text/plain": [
              "list"
            ]
          },
          "metadata": {},
          "execution_count": 33
        }
      ]
    },
    {
      "cell_type": "markdown",
      "source": [
        "# IV. Робота зі списками."
      ],
      "metadata": {
        "id": "GYVqN9uP1D4n"
      }
    },
    {
      "cell_type": "markdown",
      "source": [
        "9. Створити список двома різними за синтаксисом способами. За допомогою вбудованої функції обчисліть довжину одного з них."
      ],
      "metadata": {
        "id": "7-DeDunw2sO-"
      }
    },
    {
      "cell_type": "code",
      "source": [
        "list1 = list(('a', 'b', 'c', 31))\n",
        "list2 = [0.1, 0.2, 0.3, True, 'pink']\n",
        "print(len(list1))\n",
        "print(len(list2))"
      ],
      "metadata": {
        "id": "zxg06Uuxdyoh",
        "colab": {
          "base_uri": "https://localhost:8080/"
        },
        "outputId": "d43dca33-10cd-435b-ea3b-3064587d0408"
      },
      "execution_count": 34,
      "outputs": [
        {
          "output_type": "stream",
          "name": "stdout",
          "text": [
            "4\n",
            "5\n"
          ]
        }
      ]
    },
    {
      "cell_type": "markdown",
      "source": [
        "10. Створіть два списка та за допомогою спеціального методу додайте другий з них в якості останнього елемента першого."
      ],
      "metadata": {
        "id": "8vmGUTjL22gI"
      }
    },
    {
      "cell_type": "code",
      "source": [
        "list1 = [1, 2, 3, 4]\n",
        "list2 = [5, 6, 7, 8]\n",
        "list1.append(list2)\n",
        "print(list1)"
      ],
      "metadata": {
        "id": "uHtjWYw7d7hm",
        "colab": {
          "base_uri": "https://localhost:8080/"
        },
        "outputId": "72d75c10-27ae-4672-d20d-52543ae6d5c9"
      },
      "execution_count": 35,
      "outputs": [
        {
          "output_type": "stream",
          "name": "stdout",
          "text": [
            "[1, 2, 3, 4, [5, 6, 7, 8]]\n"
          ]
        }
      ]
    },
    {
      "cell_type": "markdown",
      "source": [
        "11. Створіть список, де елементами цього списку також є списки. Отримай перший елемент з останнього рядка та виведи значення на екран."
      ],
      "metadata": {
        "id": "JC3BkD-67_--"
      }
    },
    {
      "cell_type": "code",
      "source": [
        "list_of_lists = [[1, 2, 3], [True, False, True], ['a', 'b', 'c']]\n",
        "elem = list_of_lists[-1][0]\n",
        "print(elem)"
      ],
      "metadata": {
        "id": "Kz2jZHsGeLlz",
        "colab": {
          "base_uri": "https://localhost:8080/"
        },
        "outputId": "a17e34c9-ec8a-4818-a724-f3ce92746327"
      },
      "execution_count": 1,
      "outputs": [
        {
          "output_type": "stream",
          "name": "stdout",
          "text": [
            "a\n"
          ]
        }
      ]
    },
    {
      "cell_type": "markdown",
      "source": [
        "12. Створіть список з десяти елементів різного типу. Отримайте всі елементи, окрім двох перших та двох останніх та збережіть їх в новій змінній."
      ],
      "metadata": {
        "id": "JA47PKTv8zFK"
      }
    },
    {
      "cell_type": "code",
      "source": [
        "l = [True, 'one', 2j + 2, 3, 4.0, '5', [6, 7], (8, 9), {10, 11},\n",
        " {'twelve' : 12, 'thirteen' : 13}]\n",
        "print(l)\n",
        "sliced_list = l[2:-2]\n",
        "print(sliced_list)"
      ],
      "metadata": {
        "id": "_rHdUR-ueP4-",
        "colab": {
          "base_uri": "https://localhost:8080/"
        },
        "outputId": "2baea7e9-6bd5-49b6-f5e0-0ebed15e7093"
      },
      "execution_count": 3,
      "outputs": [
        {
          "output_type": "stream",
          "name": "stdout",
          "text": [
            "[True, 'one', (2+2j), 3, 4.0, '5', [6, 7], (8, 9), {10, 11}, {'twelve': 12, 'thirteen': 13}]\n",
            "[(2+2j), 3, 4.0, '5', [6, 7], (8, 9)]\n",
            "4\n"
          ]
        }
      ]
    },
    {
      "cell_type": "markdown",
      "source": [
        "# V. Робота з кортежами."
      ],
      "metadata": {
        "id": "pCjR1dJb1Qbi"
      }
    },
    {
      "cell_type": "markdown",
      "source": [
        "14. Створити кортеж з один елементом."
      ],
      "metadata": {
        "id": "fAZCxAX06R_k"
      }
    },
    {
      "cell_type": "code",
      "source": [
        "t = (1,)\n",
        "type(t)"
      ],
      "metadata": {
        "id": "H7d82WkQev3e",
        "colab": {
          "base_uri": "https://localhost:8080/"
        },
        "outputId": "c6f9dbd6-e709-4c9a-fe51-f317462cf06f"
      },
      "execution_count": 4,
      "outputs": [
        {
          "output_type": "execute_result",
          "data": {
            "text/plain": [
              "tuple"
            ]
          },
          "metadata": {},
          "execution_count": 4
        }
      ]
    },
    {
      "cell_type": "markdown",
      "source": [
        "15. Порівняйте список та кортеж. Назвіть схожості та відмінності, випадки використання.\n",
        "\n",
        "Списки впорядковані та змінні, об'єкти такого типу можна модифікувати після створення, для цього прописані відповідні методи, наприклад .append, .extend, .insert та інші. В одному списку можна зберігати різні типи даних. Списки використовуються коли необхідно зберегти колекцію об'єктів яку в майбутньому треба буде модифікувати. До їх елементів можна доступитися за індексом.\n",
        "\n",
        "Кортежі впорядковані та незмінні, їх неможливо модифікувати після створення. В одному кортежі можна зберігати різні типи даних. Кортежі використовуються, коли необхідно зберегти колекцію об'єктів в незмінному вигляді. Можуть виконувати роль елементів set або ж ключів dictionary, оскільки вони (елементи та ключі) обов'язкаво мають бути hashable, тобто їх має приймати в якості аргументів hash-функція. До їх елементів можна доступитися за індексом.\n",
        "\n",
        "Списки в якості аргументів hash-функція не приймає."
      ],
      "metadata": {
        "id": "8LCtYcmI6w1M"
      }
    },
    {
      "cell_type": "markdown",
      "source": [
        "*місце для текстової відповіді"
      ],
      "metadata": {
        "id": "fUsN1Hnue0C6"
      }
    },
    {
      "cell_type": "markdown",
      "source": [
        "16. Створіть кортеж з 11ти елементів чисел з рухомою комою та отримайте кожен парний за індексом елемент в зворотньому порядку. Наприклад, маючи (1.2, 2.3, 3.3, 4.3, 5.3, 6.3, 7.3, 8.3, 9.3, 0.3), отримати (0.3, 8.3, 6.3, 4.3, 2.3). Результат збережіть в нову змінну та виведіть на екран."
      ],
      "metadata": {
        "id": "m0xrwFijAmDD"
      }
    },
    {
      "cell_type": "code",
      "source": [
        "floating_point_tuple = (0.1, 0.2, 0.3, 0.4, 0.5, 0.6, 0.7, 0.8, 0.9, 1.0, 1.1)\n",
        "even_reversed = floating_point_tuple[::-2]\n",
        "print(even_reversed)"
      ],
      "metadata": {
        "id": "p-5DAH6XfAGA",
        "colab": {
          "base_uri": "https://localhost:8080/"
        },
        "outputId": "0344c016-6e41-4e81-f5cc-33ecf4ed6599"
      },
      "execution_count": 11,
      "outputs": [
        {
          "output_type": "stream",
          "name": "stdout",
          "text": [
            "(1.1, 0.9, 0.7, 0.5, 0.3, 0.1)\n"
          ]
        },
        {
          "output_type": "execute_result",
          "data": {
            "text/plain": [
              "0.1"
            ]
          },
          "metadata": {},
          "execution_count": 11
        }
      ]
    },
    {
      "cell_type": "markdown",
      "source": [
        "# VI. Множини (Set)."
      ],
      "metadata": {
        "id": "rW_I9dt3x6cW"
      }
    },
    {
      "cell_type": "markdown",
      "source": [
        "17. Створити множину без елементів. Після цого за допомогою методу додайте кілька різних елементів до множини. Чи множини є змінним типом даних?"
      ],
      "metadata": {
        "id": "zNjRLHLw1Bgg"
      }
    },
    {
      "cell_type": "code",
      "source": [
        "set1 = set()\n",
        "set1.add(True)\n",
        "set1.add(1000)\n",
        "set1.add(\"This is string\")\n",
        "print(set1)"
      ],
      "metadata": {
        "id": "KOv7zc2Kfo4N",
        "colab": {
          "base_uri": "https://localhost:8080/"
        },
        "outputId": "357baa69-97ff-4cfd-8926-e8f966442c59"
      },
      "execution_count": 12,
      "outputs": [
        {
          "output_type": "stream",
          "name": "stdout",
          "text": [
            "{1000, True, 'This is string'}\n"
          ]
        }
      ]
    },
    {
      "cell_type": "markdown",
      "source": [
        "Так, множини є змінним типом даних, але елементи множини мають бути елементами незмінних типів даних. Незмінні множини називаються frozen sets і є окремим типом даних."
      ],
      "metadata": {
        "id": "vxS6dVYiftZQ"
      }
    },
    {
      "cell_type": "markdown",
      "source": [
        "18. Створити множину, маючи список my_list = [1, 1, 2, 67, 67, 8, 9]. Пояснити, чому \"зникли\" деякі елементи."
      ],
      "metadata": {
        "id": "gHpT0Zw_1HEF"
      }
    },
    {
      "cell_type": "code",
      "source": [
        "my_list = [1, 1, 2, 67, 67, 8, 9]\n",
        "my_set = set(my_list)\n",
        "print(my_set)"
      ],
      "metadata": {
        "id": "qCN4uvJ_fxmu",
        "colab": {
          "base_uri": "https://localhost:8080/"
        },
        "outputId": "f3d1bfa7-faa1-44e3-9909-2cf57e1a1d6f"
      },
      "execution_count": 14,
      "outputs": [
        {
          "output_type": "stream",
          "name": "stdout",
          "text": [
            "{1, 2, 67, 8, 9}\n"
          ]
        },
        {
          "output_type": "execute_result",
          "data": {
            "text/plain": [
              "set"
            ]
          },
          "metadata": {},
          "execution_count": 14
        }
      ]
    },
    {
      "cell_type": "markdown",
      "source": [
        "Деякі елементи зникли, бо в множині кожен елемент має бути унікальним та не може дублюватися."
      ],
      "metadata": {
        "id": "tFNc1e20fyny"
      }
    },
    {
      "cell_type": "markdown",
      "source": [
        "19. Створіть дві множини. Продемонстуйте над ними операції: обʼєднання, різниці, пересічі та симетричної різниці. Використовуйте методи, що не змінюють множини, а створюють нові."
      ],
      "metadata": {
        "id": "SRMkGizS1UwY"
      }
    },
    {
      "cell_type": "code",
      "source": [
        "set1 = {1, 2, 3, 4, 5, 6, 7, 8, 9}\n",
        "set2 = {1, 3, 5, 7, 9, 11, 13}\n",
        "\n",
        "set_union = set1.union(set2)\n",
        "print(\"union:\", set_union)\n",
        "\n",
        "set_intersection = set1.intersection(set2)\n",
        "print(\"intersection\",set_intersection)\n",
        "\n",
        "set_difference = set1.difference(set2)\n",
        "print(\"difference\",set_difference)\n",
        "\n",
        "set_symmetric_difference = set1.symmetric_difference(set2)\n",
        "print(\"symmetric difference\", set_symmetric_difference)"
      ],
      "metadata": {
        "id": "h0T-VuDnf3Ri",
        "colab": {
          "base_uri": "https://localhost:8080/"
        },
        "outputId": "7cd3a66d-6a62-40f7-a73b-2fa25388dee2"
      },
      "execution_count": 16,
      "outputs": [
        {
          "output_type": "stream",
          "name": "stdout",
          "text": [
            "union: {1, 2, 3, 4, 5, 6, 7, 8, 9, 11, 13}\n",
            "intersection {1, 3, 5, 7, 9}\n",
            "difference {8, 2, 4, 6}\n",
            "symmetric difference {2, 4, 6, 8, 11, 13}\n"
          ]
        }
      ]
    },
    {
      "cell_type": "markdown",
      "source": [
        "# VII. Словники (Dictionary)."
      ],
      "metadata": {
        "id": "kWc8gkzTx7Ea"
      }
    },
    {
      "cell_type": "markdown",
      "source": [
        "20. Створіть пустий словник. До нього додайте чотири пари елементів такі, щоб їхні ключі були різних типів. Чи може список бути ключем? Чому?"
      ],
      "metadata": {
        "id": "i5FLwj-B2ybQ"
      }
    },
    {
      "cell_type": "code",
      "source": [
        "dictionary = {}\n",
        "dictionary[True] = 1\n",
        "dictionary[\"Two\"] = 2\n",
        "dictionary[3] = 3\n",
        "dictionary[(4, 0)] = 4\n",
        "print(dictionary)"
      ],
      "metadata": {
        "id": "hxgv3BzrgLAV",
        "colab": {
          "base_uri": "https://localhost:8080/"
        },
        "outputId": "531b953d-5c15-43a0-9f25-bd7f90a0d2d2"
      },
      "execution_count": 17,
      "outputs": [
        {
          "output_type": "stream",
          "name": "stdout",
          "text": [
            "{True: 1, 'Two': 2, 3: 3, (4, 0): 4}\n"
          ]
        }
      ]
    },
    {
      "cell_type": "markdown",
      "source": [
        "Список не може бути ключем на відміну від кортежа, бо ключ має бути незмінним, а список не задовольняє цій характеристиці."
      ],
      "metadata": {
        "id": "zwa7UVN-gR3m"
      }
    },
    {
      "cell_type": "markdown",
      "source": [
        "21. Створіть словник, де значенням в одній з пар теж буде словник, який теж має вкладений словник. Виведіть на екран значення, що міститься в словнику, що знаходиться на найнижчому рівні ієрархії вкладеності (найбільш внутрішній)."
      ],
      "metadata": {
        "id": "WM_pMlJsgoNf"
      }
    },
    {
      "cell_type": "code",
      "source": [
        "nested_d = {\n",
        "    \"tuple\" : (1, 2, 3),\n",
        "    \"dictionary\" : {\"one\" : 1, \"two\" : 2, \"three\" : 3, \"nested_nested_d\" : {\"fruit\" : \"apple\"}}\n",
        "    }\n",
        "\n",
        "print(nested_d[\"dictionary\"][\"nested_nested_d\"]) # the most inner dictionary\n",
        "print(nested_d[\"dictionary\"][\"nested_nested_d\"][\"fruit\"]) # value stored in the most inner dictionary"
      ],
      "metadata": {
        "id": "60dlP7IHhAy4",
        "colab": {
          "base_uri": "https://localhost:8080/"
        },
        "outputId": "538a139b-7bb3-4c33-baf8-f2f0e8ef6be2"
      },
      "execution_count": 21,
      "outputs": [
        {
          "output_type": "stream",
          "name": "stdout",
          "text": [
            "{'fruit': 'apple'}\n",
            "apple\n"
          ]
        }
      ]
    },
    {
      "cell_type": "markdown",
      "source": [
        "# Вітаю! Ви велика(ий) молодець, що впоралась(вся). Похваліть себе та побалуйте чимось приємним. Я Вами пишаюся."
      ],
      "metadata": {
        "id": "xOZP0hkx6cCr"
      }
    }
  ]
}