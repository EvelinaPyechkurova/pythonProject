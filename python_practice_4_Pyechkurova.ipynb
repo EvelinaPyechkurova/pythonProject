{
  "nbformat": 4,
  "nbformat_minor": 0,
  "metadata": {
    "colab": {
      "provenance": []
    },
    "kernelspec": {
      "name": "python3",
      "display_name": "Python 3"
    },
    "language_info": {
      "name": "python"
    }
  },
  "cells": [
    {
      "cell_type": "markdown",
      "source": [
        "# I. Functions. Arguments."
      ],
      "metadata": {
        "id": "kXpppdVm6wFy"
      }
    },
    {
      "cell_type": "markdown",
      "source": [
        "1. (5б) Назвіть основні 4 смислові  частини, з яких складається функція."
      ],
      "metadata": {
        "id": "u_krJdlbAkVz"
      }
    },
    {
      "cell_type": "markdown",
      "source": [
        "Назва функції\n",
        "\n",
        "Параметри\n",
        "\n",
        "Тіло функції\n",
        "\n",
        "Повернення значення"
      ],
      "metadata": {
        "id": "KKTrTXmHAptb"
      }
    },
    {
      "cell_type": "markdown",
      "source": [
        "2. (3б) Визначте функцію, що приймає 2 аргументи та повертає результат ділення 1го аргумента на інший."
      ],
      "metadata": {
        "id": "ORM4PqJQAtDM"
      }
    },
    {
      "cell_type": "code",
      "execution_count": null,
      "metadata": {
        "id": "EuDx-z8M6sLo"
      },
      "outputs": [],
      "source": [
        "def division(divisible, divisor):\n",
        "  return divisible/divisor"
      ]
    },
    {
      "cell_type": "markdown",
      "source": [
        "3. (2б) Викличте вище визначену функцію, де другий аргумент дорівнює 0."
      ],
      "metadata": {
        "id": "5joQGQ-SAyMe"
      }
    },
    {
      "cell_type": "code",
      "source": [
        "print(division(5, 0))"
      ],
      "metadata": {
        "id": "V5cBV1LOA3d-",
        "colab": {
          "base_uri": "https://localhost:8080/",
          "height": 141
        },
        "outputId": "21fe58b8-f525-4d30-927a-53e6979f6bbd"
      },
      "execution_count": 1,
      "outputs": [
        {
          "output_type": "error",
          "ename": "NameError",
          "evalue": "name 'division' is not defined",
          "traceback": [
            "\u001b[0;31m---------------------------------------------------------------------------\u001b[0m",
            "\u001b[0;31mNameError\u001b[0m                                 Traceback (most recent call last)",
            "\u001b[0;32m<ipython-input-1-4d6615ec9209>\u001b[0m in \u001b[0;36m<cell line: 1>\u001b[0;34m()\u001b[0m\n\u001b[0;32m----> 1\u001b[0;31m \u001b[0mprint\u001b[0m\u001b[0;34m(\u001b[0m\u001b[0mdivision\u001b[0m\u001b[0;34m(\u001b[0m\u001b[0;36m5\u001b[0m\u001b[0;34m,\u001b[0m \u001b[0;36m0\u001b[0m\u001b[0;34m)\u001b[0m\u001b[0;34m)\u001b[0m\u001b[0;34m\u001b[0m\u001b[0;34m\u001b[0m\u001b[0m\n\u001b[0m",
            "\u001b[0;31mNameError\u001b[0m: name 'division' is not defined"
          ]
        }
      ]
    },
    {
      "cell_type": "markdown",
      "source": [
        "4. (4б) Перевизначте функцію так, щоби у випадку ділення на 0 функція повертала None, а в решті випадків - результат розрахунків."
      ],
      "metadata": {
        "id": "QyimWgW8A43-"
      }
    },
    {
      "cell_type": "code",
      "source": [
        "def division(divisible, divisor):\n",
        "  if(divisor == 0):\n",
        "    return None\n",
        "  return divisible/divisor"
      ],
      "metadata": {
        "id": "7VIODtSjA8Ek"
      },
      "execution_count": null,
      "outputs": []
    },
    {
      "cell_type": "markdown",
      "source": [
        "5. (5б) Визначте функцію, що віднімає одне число від іншого (підказка: це буде 2 аргументи функції). При чому, якщо не визначити, скільки саме має бути віднято від числа, за замовчуванням має відніматися 1. Викличте функцію, передаючи тільки один аргумент."
      ],
      "metadata": {
        "id": "Y8mN0GfkA81l"
      }
    },
    {
      "cell_type": "code",
      "source": [
        "def subtraction(decreasing, denominator=1):\n",
        "  return decreasing-denominator\n",
        "\n",
        "print(subtraction(5))"
      ],
      "metadata": {
        "id": "vg1kxkdgBA50",
        "colab": {
          "base_uri": "https://localhost:8080/"
        },
        "outputId": "90993b2f-82cf-4650-ea63-89f724cfe116"
      },
      "execution_count": 22,
      "outputs": [
        {
          "output_type": "stream",
          "name": "stdout",
          "text": [
            "4\n"
          ]
        }
      ]
    },
    {
      "cell_type": "markdown",
      "source": [
        "6. (7б) Визначте функцію, яка приймає iterable (ітерабельний обʼєкт, напр. список), що складається з 7ми рядкових значень - назв погодних умов (напр. \"sunny\") за кожен день у тижні. Повертає функція словник, де ключами є рядки з погодними умовами, а значеннями - кількість разів, скільки дана погода була протягом тижня (напр. {'sunny': 1, ...}). Викличте цю функцію та виведіть результат її роботи на екран."
      ],
      "metadata": {
        "id": "D3mwQGNOBBs4"
      }
    },
    {
      "cell_type": "code",
      "source": [
        "def count_weather_conditions(conditions):\n",
        "  weather_frequency = {}\n",
        "  for condition in conditions:\n",
        "    weather_frequency[condition] = weather_frequency.get(condition, 0) + 1\n",
        "  return weather_frequency\n",
        "\n",
        "weather_iterable = ['sunny', 'sunny', 'cloudy', 'windy', 'cloudy',\n",
        "                    'foggy', 'sunny']\n",
        "print(count_weather_conditions(weather_iterable))"
      ],
      "metadata": {
        "id": "OsWm-hKcBFyn",
        "colab": {
          "base_uri": "https://localhost:8080/"
        },
        "outputId": "69e4d5f4-e2a6-4c1d-f2d7-7deb54a7ed48"
      },
      "execution_count": 7,
      "outputs": [
        {
          "output_type": "stream",
          "name": "stdout",
          "text": [
            "{'sunny': 3, 'cloudy': 2, 'windy': 1, 'foggy': 1}\n"
          ]
        }
      ]
    },
    {
      "cell_type": "markdown",
      "source": [
        "7. (15б) Напишіть програму, яка б шукала необхідне число у впорядкованому списку цілочислених значень, де\n",
        "число має вводитись з консолі.\n",
        "власне алгоритм пошуку винесений в окрему функцію, яка повертає булеве значення (знайдено число - True, не знайдено - False).\n",
        "в залежності від результату функції, виведіть на екран повідомлення про успішний або ж неуспішний пошук.\n",
        "Зауваження: використовувати оператор in заборонено."
      ],
      "metadata": {
        "id": "RMiCcdOsBKQT"
      }
    },
    {
      "cell_type": "code",
      "source": [
        "def binary_search(arr, target):\n",
        "  low = 0\n",
        "  high = len(arr)\n",
        "  while(low <= high):\n",
        "    mid = (low+high)//2\n",
        "    guess = arr[mid]\n",
        "    if(guess == target):\n",
        "      return True\n",
        "    if(guess > target):\n",
        "      high = mid - 1\n",
        "    else:\n",
        "      low = mid + 1\n",
        "  return False\n",
        "\n",
        "arr = [1, 3, 5, 7, 9, 11, 13, 15, 17, 19, 21]\n",
        "\n",
        "target = int(input(\"Enter number for search: \"))\n",
        "\n",
        "# Виконуємо пошук і виводимо результат\n",
        "if binary_search(arr, target):\n",
        "    print(\"Number found.\")\n",
        "else:\n",
        "    print(\"Number not found.\")"
      ],
      "metadata": {
        "id": "UNCZg65OBOy-",
        "colab": {
          "base_uri": "https://localhost:8080/"
        },
        "outputId": "98a66b90-7a8b-4669-d29e-68501d81fd2a"
      },
      "execution_count": 11,
      "outputs": [
        {
          "output_type": "stream",
          "name": "stdout",
          "text": [
            "Enter number for search: 13\n",
            "Number found.\n"
          ]
        }
      ]
    },
    {
      "cell_type": "markdown",
      "source": [
        "# II. Lambda functions."
      ],
      "metadata": {
        "id": "Ae1n_OvLBTsy"
      }
    },
    {
      "cell_type": "markdown",
      "source": [
        "8. (4б) В яких випадках варто використовувати лямбда-функції?"
      ],
      "metadata": {
        "id": "xaD_wSlaCWen"
      }
    },
    {
      "cell_type": "markdown",
      "source": [
        "Лямбда-функції використовуються, коли потрібна коротка анонімна функція на один рядок. Можуть використовуватися як аргументи для функцій вищого порядку, які приймають інші функції як аргументи. Також варто використовувати такі функції, якщо нам потрібна невелика одноразова функція."
      ],
      "metadata": {
        "id": "42MB6OoLCakR"
      }
    },
    {
      "cell_type": "markdown",
      "source": [
        "9. (9б) Визначте список з рядками. Після цього визначте анонімну функцію для отримання першого символу у верхньому регістрі для кожного рядка списку.\n",
        "Підказка: використовуйте анонімну функцію в якості агрумента до вбудованої ф-ції, яка створена для застосування функцій над iterable обʼєктами. Результат виведіть на екран у вигляді кортежу."
      ],
      "metadata": {
        "id": "USrzrk7GCedk"
      }
    },
    {
      "cell_type": "code",
      "source": [
        "strings = [\"hello\", \"world\", \"python\", \"programming\", \"cat\"]\n",
        "\n",
        "result = tuple(map(lambda x: x[0].upper(), strings))\n",
        "\n",
        "print(result)"
      ],
      "metadata": {
        "id": "M8QWUsMlCjWH"
      },
      "execution_count": null,
      "outputs": []
    },
    {
      "cell_type": "markdown",
      "source": [
        "10. (10б) Визначте список з числовими значеннями (і цілими, і з рухомою комою). а) Відфільтруйте всі числа, які діляться націло на 3 за допомогою вбудованої функції та анонімної функції в якості аргумента). Збережіть результат у змінній, не приводяти явно до будь-якого типу. б) Використовуючи результат на кроці 12.а у якості аргументу, та за допомогою лямбда-функції в якості іншого аргументу до вбудованої функції, додайте до кожного елементу число 1 та опісля зведіть у квадрат. Остаточний результат приведіть явно до списку та виведіть на екран."
      ],
      "metadata": {
        "id": "9fyUhXOoCtGp"
      }
    },
    {
      "cell_type": "code",
      "source": [
        "numbers = [1, 2, 3, 4.5, 6, 9, 11.5, 12, 14, 15, 18.0]\n",
        "\n",
        "filtered_numbers = filter(lambda x: x % 3 == 0, numbers)\n",
        "\n",
        "result = list(map(lambda x: (x + 1) ** 2, filtered_numbers))\n",
        "\n",
        "result"
      ],
      "metadata": {
        "id": "exEx2_okCsql",
        "colab": {
          "base_uri": "https://localhost:8080/"
        },
        "outputId": "ce7e65f2-0b06-4546-c802-e7275f71f9c6"
      },
      "execution_count": 14,
      "outputs": [
        {
          "output_type": "execute_result",
          "data": {
            "text/plain": [
              "[16, 49, 100, 169, 256, 361.0]"
            ]
          },
          "metadata": {},
          "execution_count": 14
        }
      ]
    },
    {
      "cell_type": "markdown",
      "source": [
        "# III. Decorators."
      ],
      "metadata": {
        "id": "o_x8cG_WC7jp"
      }
    },
    {
      "cell_type": "markdown",
      "source": [
        "11. (11б) Визначте декоратор, який би виводив у консоль повідомлення про початок роботи і назву функції (напр. my_function._ _ name _ _), а після відпрацювання функції - повідомлення про закінчення роботи і назву функції, що задекорована."
      ],
      "metadata": {
        "id": "mhxS4-mfC8LQ"
      }
    },
    {
      "cell_type": "code",
      "source": [
        "def function_decorator(func):\n",
        "    def wrapper(*args, **kwargs):\n",
        "        print(f\"Beginning of work of function {func.__name__}\")\n",
        "        result = func(*args, **kwargs)\n",
        "        print(f\"End of work of function {func.__name__}\")\n",
        "        return result\n",
        "    return wrapper\n",
        "\n",
        "@function_decorator\n",
        "def sample_function(x, y):\n",
        "    return x + y\n",
        "\n",
        "sample_function(5, 3)"
      ],
      "metadata": {
        "id": "srd1ygWjDGhO",
        "colab": {
          "base_uri": "https://localhost:8080/"
        },
        "outputId": "39ae1fac-b577-41e6-b9ff-4b690ce7ce3c"
      },
      "execution_count": 15,
      "outputs": [
        {
          "output_type": "stream",
          "name": "stdout",
          "text": [
            "Beginning of work of function sample_function\n",
            "End of work of function sample_function\n"
          ]
        },
        {
          "output_type": "execute_result",
          "data": {
            "text/plain": [
              "8"
            ]
          },
          "metadata": {},
          "execution_count": 15
        }
      ]
    },
    {
      "cell_type": "markdown",
      "source": [
        "12. (4б) Задекоруйте двома різними способами функції з завдання 4 та 5 декоратором із завдання 11. (**УВАГА**: не декоруйте функції двічі!)."
      ],
      "metadata": {
        "id": "rxGZwVBiDph3"
      }
    },
    {
      "cell_type": "code",
      "source": [
        "@function_decorator\n",
        "def division(divisible, divisor):\n",
        "    if divisor == 0:\n",
        "        return None\n",
        "    return divisible / divisor\n",
        "\n",
        "@function_decorator\n",
        "def subtraction(decreasing, denominator=1):\n",
        "    return decreasing - denominator\n",
        "\n",
        "decorated_division = function_decorator(division)\n",
        "decorated_subtraction = function_decorator(subtraction)"
      ],
      "metadata": {
        "id": "06lj7eq_DwZe",
        "colab": {
          "base_uri": "https://localhost:8080/"
        },
        "outputId": "680ea262-0cce-4706-db72-25f3d8cde303"
      },
      "execution_count": 17,
      "outputs": [
        {
          "output_type": "stream",
          "name": "stdout",
          "text": [
            "Beginning of work of function division\n",
            "End of work of function division\n",
            "5.0\n",
            "Beginning of work of function subtraction\n",
            "End of work of function subtraction\n",
            "4\n",
            "Beginning of work of function division\n",
            "End of work of function division\n",
            "5.0\n",
            "Beginning of work of function subtraction\n",
            "End of work of function subtraction\n",
            "4\n"
          ]
        }
      ]
    },
    {
      "cell_type": "markdown",
      "source": [
        "13. (2б) Викличте одну з задекорованих функцій і виведіть її результат на екран."
      ],
      "metadata": {
        "id": "P0ep1urBDzf-"
      }
    },
    {
      "cell_type": "code",
      "source": [
        "print(division(10, 2))"
      ],
      "metadata": {
        "id": "1QvTw0ctD0S3",
        "colab": {
          "base_uri": "https://localhost:8080/"
        },
        "outputId": "3c900c8e-287d-4b5b-d23f-8a9e826d46ab"
      },
      "execution_count": 18,
      "outputs": [
        {
          "output_type": "stream",
          "name": "stdout",
          "text": [
            "Beginning of work of function division\n",
            "End of work of function division\n",
            "5.0\n"
          ]
        }
      ]
    },
    {
      "cell_type": "markdown",
      "source": [
        "# IV. Recursion."
      ],
      "metadata": {
        "id": "poECCpuoD2S9"
      }
    },
    {
      "cell_type": "markdown",
      "source": [
        "14. (4б) Назвіть дві частини функції, які є обовʼязковими для того, щоб називати її рекурсивною."
      ],
      "metadata": {
        "id": "DqkURfdsD7MY"
      }
    },
    {
      "cell_type": "markdown",
      "source": [
        "Базовий випадок\n",
        "Крок рекурсії"
      ],
      "metadata": {
        "id": "HYW6ttIeIQIU"
      }
    },
    {
      "cell_type": "markdown",
      "source": [
        "15. (15б) Визначте функцію, яка рекурсивно реалізовує пошук числа у послідовності Фібоначчі за її індексом (нумерація починається з нуля). Наприклад, потрібно знайти перше число у послідовності, тоді функція прийматиме 0 у якості аргумента і повертатиме 1, якщо ж знаходити третє число (індекс 2) послідовності, то функція повертатиме 2, якщо ж знаходити десяте число (індекс 9), то функція повертатиме 55."
      ],
      "metadata": {
        "id": "WYVt20UmEA35"
      }
    },
    {
      "cell_type": "code",
      "source": [
        "def fibonacci(n):\n",
        "    # Base case\n",
        "    if n == 0:\n",
        "        return 1\n",
        "    elif n == 1:\n",
        "        return 1\n",
        "    # Recursion step\n",
        "    else:\n",
        "        return fibonacci(n-1) + fibonacci(n-2)\n",
        "\n",
        "test_indices = [0, 1, 2, 3, 9]\n",
        "test_results = [fibonacci(index) for index in test_indices]\n",
        "\n",
        "test_results"
      ],
      "metadata": {
        "id": "xIMhp05AIpV_",
        "colab": {
          "base_uri": "https://localhost:8080/"
        },
        "outputId": "b7fc274f-d31e-4be4-f8d4-4218c9fabb63"
      },
      "execution_count": 21,
      "outputs": [
        {
          "output_type": "execute_result",
          "data": {
            "text/plain": [
              "[1, 1, 2, 3, 55]"
            ]
          },
          "metadata": {},
          "execution_count": 21
        }
      ]
    },
    {
      "cell_type": "markdown",
      "source": [
        "# Вітаю! Ви велика(ий) молодець, що впоралась(вся). Похваліть себе та побалуйте чимось приємним. Я Вами пишаюся."
      ],
      "metadata": {
        "id": "ytXC8n_4Ip0W"
      }
    }
  ]
}